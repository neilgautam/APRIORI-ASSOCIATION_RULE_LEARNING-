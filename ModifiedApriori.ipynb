{
 "cells": [
  {
   "cell_type": "code",
   "execution_count": 37,
   "metadata": {},
   "outputs": [],
   "source": [
    "from apyori import apriori"
   ]
  },
  {
   "cell_type": "code",
   "execution_count": 38,
   "metadata": {},
   "outputs": [],
   "source": [
    "import numpy as np\n",
    "from sklearn.externals import joblib\n",
    "import os"
   ]
  },
  {
   "cell_type": "code",
   "execution_count": 39,
   "metadata": {},
   "outputs": [],
   "source": [
    "data = np.load(\"apriori_data_2013-01.npy\",allow_pickle = True)"
   ]
  },
  {
   "cell_type": "code",
   "execution_count": 41,
   "metadata": {},
   "outputs": [],
   "source": [
    "data = list(data)"
   ]
  },
  {
   "cell_type": "code",
   "execution_count": 42,
   "metadata": {},
   "outputs": [
    {
     "name": "stdout",
     "output_type": "stream",
     "text": [
      "5889\n"
     ]
    }
   ],
   "source": [
    "print(len(data))"
   ]
  },
  {
   "cell_type": "code",
   "execution_count": 43,
   "metadata": {},
   "outputs": [
    {
     "name": "stdout",
     "output_type": "stream",
     "text": [
      "13\n"
     ]
    }
   ],
   "source": [
    "max_ = 0\n",
    "for i in data:\n",
    "    if len(i)>max_:\n",
    "        max_ = len(i)\n",
    "    else:\n",
    "        continue\n",
    "print(max_)        "
   ]
  },
  {
   "cell_type": "code",
   "execution_count": null,
   "metadata": {},
   "outputs": [],
   "source": [
    "for i in range(len(data)):\n",
    "    if len(data[i])<max_:\n",
    "        diff = max_-len(data[i])\n",
    "        for k in range(diff):\n",
    "            data[i].append(\"nan\")\n",
    "            "
   ]
  },
  {
   "cell_type": "code",
   "execution_count": 85,
   "metadata": {},
   "outputs": [],
   "source": [
    "rules = apriori(data,min_support = 0.7,min_confidence = 0.7,min_lift = 1.01,min_length = 3)"
   ]
  },
  {
   "cell_type": "code",
   "execution_count": 86,
   "metadata": {},
   "outputs": [
    {
     "name": "stdout",
     "output_type": "stream",
     "text": [
      "16\n"
     ]
    }
   ],
   "source": [
    "rules = list(rules)\n",
    "print(len(rules))"
   ]
  },
  {
   "cell_type": "code",
   "execution_count": 88,
   "metadata": {},
   "outputs": [
    {
     "name": "stdout",
     "output_type": "stream",
     "text": [
      "I ==> 0\n",
      "Set Of Association :  frozenset({'on_off_time_1', 'on_off_time_6'})\n",
      "confidence :  0.8604177279673968\n",
      "\n",
      "\n",
      "\n",
      "I ==> 1\n",
      "Set Of Association :  frozenset({'on_off_time_1', 'on_off_time_6', 'on_off_time_10'})\n",
      "confidence :  0.8602479198505688\n",
      "\n",
      "\n",
      "\n",
      "I ==> 2\n",
      "Set Of Association :  frozenset({'on_off_time_1', 'on_off_time_6', 'on_off_time_13'})\n",
      "confidence :  0.8602479198505688\n",
      "\n",
      "\n",
      "\n",
      "I ==> 3\n",
      "Set Of Association :  frozenset({'on_off_time_1', 'on_off_time_6', 'on_off_time_2'})\n",
      "confidence :  0.8369842078451349\n",
      "\n",
      "\n",
      "\n",
      "I ==> 4\n",
      "Set Of Association :  frozenset({'on_off_time_1', 'on_off_time_6', 'on_off_time_9'})\n",
      "confidence :  0.8568517575140092\n",
      "\n",
      "\n",
      "\n",
      "I ==> 5\n",
      "Set Of Association :  frozenset({'on_off_time_1', 'on_off_time_6', 'on_off_time_13', 'on_off_time_10'})\n",
      "confidence :  0.8602479198505688\n",
      "\n",
      "\n",
      "\n",
      "I ==> 6\n",
      "Set Of Association :  frozenset({'on_off_time_1', 'on_off_time_2', 'on_off_time_6', 'on_off_time_10'})\n",
      "confidence :  0.8368143997283071\n",
      "\n",
      "\n",
      "\n",
      "I ==> 7\n",
      "Set Of Association :  frozenset({'on_off_time_1', 'on_off_time_6', 'on_off_time_9', 'on_off_time_10'})\n",
      "confidence :  0.8568517575140092\n",
      "\n",
      "\n",
      "\n",
      "I ==> 8\n",
      "Set Of Association :  frozenset({'on_off_time_1', 'on_off_time_6', 'on_off_time_13', 'on_off_time_2'})\n",
      "confidence :  0.8368143997283071\n",
      "\n",
      "\n",
      "\n",
      "I ==> 9\n",
      "Set Of Association :  frozenset({'on_off_time_1', 'on_off_time_6', 'on_off_time_9', 'on_off_time_13'})\n",
      "confidence :  0.8568517575140092\n",
      "\n",
      "\n",
      "\n",
      "I ==> 10\n",
      "Set Of Association :  frozenset({'on_off_time_1', 'on_off_time_6', 'on_off_time_9', 'on_off_time_2'})\n",
      "confidence :  0.8334182373917474\n",
      "\n",
      "\n",
      "\n",
      "I ==> 11\n",
      "Set Of Association :  frozenset({'on_off_time_13', 'on_off_time_2', 'on_off_time_6', 'on_off_time_1', 'on_off_time_10'})\n",
      "confidence :  0.8368143997283071\n",
      "\n",
      "\n",
      "\n",
      "I ==> 12\n",
      "Set Of Association :  frozenset({'on_off_time_13', 'on_off_time_6', 'on_off_time_1', 'on_off_time_9', 'on_off_time_10'})\n",
      "confidence :  0.8568517575140092\n",
      "\n",
      "\n",
      "\n",
      "I ==> 13\n",
      "Set Of Association :  frozenset({'on_off_time_2', 'on_off_time_6', 'on_off_time_1', 'on_off_time_9', 'on_off_time_10'})\n",
      "confidence :  0.8334182373917474\n",
      "\n",
      "\n",
      "\n",
      "I ==> 14\n",
      "Set Of Association :  frozenset({'on_off_time_13', 'on_off_time_2', 'on_off_time_6', 'on_off_time_1', 'on_off_time_9'})\n",
      "confidence :  0.8334182373917474\n",
      "\n",
      "\n",
      "\n",
      "I ==> 15\n",
      "Set Of Association :  frozenset({'on_off_time_13', 'on_off_time_2', 'on_off_time_6', 'on_off_time_1', 'on_off_time_9', 'on_off_time_10'})\n",
      "confidence :  0.8334182373917474\n",
      "\n",
      "\n",
      "\n"
     ]
    }
   ],
   "source": [
    "for i in range(len(rules)):\n",
    "    print(\"I ==> {}\".format(i))\n",
    "    print(\"Set Of Association : \",rules[i][0])\n",
    "    print(\"confidence : \",rules[i][1])\n",
    "    #print(\"--> \",rules[i][2])\n",
    "    print(\"\\n\\n\")"
   ]
  },
  {
   "cell_type": "code",
   "execution_count": null,
   "metadata": {},
   "outputs": [],
   "source": []
  }
 ],
 "metadata": {
  "kernelspec": {
   "display_name": "Python 3",
   "language": "python",
   "name": "python3"
  },
  "language_info": {
   "codemirror_mode": {
    "name": "ipython",
    "version": 3
   },
   "file_extension": ".py",
   "mimetype": "text/x-python",
   "name": "python",
   "nbconvert_exporter": "python",
   "pygments_lexer": "ipython3",
   "version": "3.7.6"
  }
 },
 "nbformat": 4,
 "nbformat_minor": 4
}
